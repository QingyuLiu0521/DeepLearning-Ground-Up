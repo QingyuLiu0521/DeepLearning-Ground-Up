{
 "cells": [
  {
   "cell_type": "markdown",
   "metadata": {},
   "source": [
    "# 六、手撕线性层\n",
    "线性层(Linear Layer)是神经网络中最基础的层，对输入进行线性变换，常与非线性激活函数（如ReLU）配合使用形成MLP\n",
    "\n",
    "公式: $$y = xW^T + b$$\n",
    "\n",
    "其中$x$是输入张量, $W$是权重矩阵, $b$是偏置向量。如果输入$x$的形状是$[\\text{batch\\_size}, \\text{in\\_features}]$，那么:\n",
    "- 权重$W$的形状是 $[\\text{out\\_features}, \\text{in\\_features}]$\n",
    "- 偏置$b$的形状是 $[\\text{out\\_features}]$\n",
    "- 输出$y$的形状是 $[\\text{batch\\_size}, \\text{out\\_features}]$\n",
    "\n",
    "根据PyTorch源码，权重初始化采用 Kaiming 均匀分布初始化: $W \\sim U(-\\sqrt{\\frac{6}{fan\\_in}}, \\sqrt{\\frac{6}{fan\\_in}})$\n",
    "\n",
    "偏置初始化采用均匀分布: $b \\sim U(-\\frac{1}{\\sqrt{fan\\_in}}, \\frac{1}{\\sqrt{fan\\_in}})$\n",
    "\n",
    "其中$\\text{fan\\_in}$是输入特征数。\n"
   ]
  },
  {
   "cell_type": "code",
   "execution_count": 5,
   "metadata": {},
   "outputs": [
    {
     "name": "stdout",
     "output_type": "stream",
     "text": [
      "Input shape: torch.Size([2, 4])\n",
      "My Linear output shape: torch.Size([2, 8])\n",
      "Pytorch Linear output shape: torch.Size([2, 8])\n"
     ]
    }
   ],
   "source": [
    "import torch\n",
    "from torch import nn\n",
    "import math\n",
    "\n",
    "class MyLinear(nn.Module):\n",
    "    def __init__(self, in_features, out_features, bias):\n",
    "        super().__init__()\n",
    "        self.in_features = in_features\n",
    "        self.out_features = out_features\n",
    "        self.weight = nn.Parameter(torch.empty(self.out_features, self.in_features))\n",
    "        if bias:\n",
    "            self.bias = nn.Parameter(torch.empty(self.out_features))\n",
    "        else:\n",
    "            self.register_parameter('bias', None)\n",
    "        self.reset_parameters()\n",
    "        \n",
    "    def reset_parameters(self):\n",
    "        nn.init.kaiming_uniform_(self.weight, a=math.sqrt(5))\n",
    "        if self.bias is not None:\n",
    "            fan_in, _ = nn.init._calculate_fan_in_and_fan_out(self.weight)\n",
    "            bound = 1 / math.sqrt(fan_in)\n",
    "            nn.init.uniform_(self.bias, -bound, bound)\n",
    "    \n",
    "    def forward(self, x):\n",
    "        output = torch.matmul(x, self.weight.t())\n",
    "        if self.bias is not None:\n",
    "            output += self.bias\n",
    "        return output\n",
    "\n",
    "\n",
    "batch = 2\n",
    "in_features = 4\n",
    "out_features = 8\n",
    "\n",
    "x = torch.randn(batch, in_features)\n",
    "my_linear = MyLinear(in_features=in_features, out_features=out_features, bias=True)\n",
    "torch_linear = nn.Linear(in_features=in_features, out_features=out_features, bias=True)\n",
    "\n",
    "print(f\"Input shape: {x.shape}\")\n",
    "print(f\"My Linear output shape: {my_linear(x).shape}\")\n",
    "print(f\"Pytorch Linear output shape: {torch_linear(x).shape}\")"
   ]
  }
 ],
 "metadata": {
  "kernelspec": {
   "display_name": "d2l",
   "language": "python",
   "name": "python3"
  },
  "language_info": {
   "codemirror_mode": {
    "name": "ipython",
    "version": 3
   },
   "file_extension": ".py",
   "mimetype": "text/x-python",
   "name": "python",
   "nbconvert_exporter": "python",
   "pygments_lexer": "ipython3",
   "version": "3.9.15"
  }
 },
 "nbformat": 4,
 "nbformat_minor": 2
}
